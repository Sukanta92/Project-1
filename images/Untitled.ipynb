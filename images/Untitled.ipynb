{
 "cells": [
  {
   "cell_type": "markdown",
   "id": "d29ab4d1",
   "metadata": {},
   "source": [
    "# Artificial Neural Network (ANN)."
   ]
  },
  {
   "cell_type": "markdown",
   "id": "80a4949e",
   "metadata": {},
   "source": [
    "## Importing the libraries."
   ]
  },
  {
   "cell_type": "code",
   "execution_count": null,
   "id": "1b8deccf",
   "metadata": {},
   "outputs": [],
   "source": [
    "import numpy as np\n",
    "import pandas as pd\n",
    "import tensorflow as tf"
   ]
  },
  {
   "cell_type": "markdown",
   "id": "dbe5513f",
   "metadata": {},
   "source": [
    "## Importing the dataset"
   ]
  },
  {
   "cell_type": "code",
   "execution_count": null,
   "id": "0de36ed7",
   "metadata": {},
   "outputs": [],
   "source": [
    "dataset = pd.read_csv('result_summary.csv')\n",
    "X = dataset.iloc[:, 1:-1].values\n",
    "y = dataset.iloc[:, -1].values"
   ]
  },
  {
   "cell_type": "code",
   "execution_count": null,
   "id": "545f50e6",
   "metadata": {},
   "outputs": [],
   "source": [
    "print(X)"
   ]
  },
  {
   "cell_type": "code",
   "execution_count": null,
   "id": "a311ff0a",
   "metadata": {},
   "outputs": [],
   "source": [
    "print(y)"
   ]
  },
  {
   "cell_type": "markdown",
   "id": "cc225e18",
   "metadata": {},
   "source": [
    "## Splitting the dataset into the training set and test set"
   ]
  },
  {
   "cell_type": "code",
   "execution_count": null,
   "id": "69743f35",
   "metadata": {},
   "outputs": [],
   "source": [
    "from sklearn.model_selection import train_test_split\n",
    "X_train, X_test, y_train, y_test = train_test_split(X, y, test_size = 0.2, random_state = 0)"
   ]
  },
  {
   "cell_type": "markdown",
   "id": "d3950824",
   "metadata": {},
   "source": [
    "## Feature Scaling"
   ]
  },
  {
   "cell_type": "code",
   "execution_count": null,
   "id": "06f6b50c",
   "metadata": {},
   "outputs": [],
   "source": [
    "from sklearn.preprocessing import StandardScaler\n",
    "sc = StandardScaler()\n",
    "X_train = sc.fit_transform(X_train)\n",
    "X_test = sc.transform(X_test)"
   ]
  },
  {
   "cell_type": "markdown",
   "id": "65b340ce",
   "metadata": {},
   "source": [
    "## Building the ANN"
   ]
  },
  {
   "cell_type": "code",
   "execution_count": null,
   "id": "2e19c675",
   "metadata": {},
   "outputs": [],
   "source": [
    "ann = tf.keras.models.Sequential()\n",
    "ann.add(tf.keras.layers.Dense(units=6, activation='relu'))\n",
    "ann.add(tf.keras.layers.Dense(units=6, activation='relu'))\n",
    "ann.add(tf.keras.layers.Dense(units=1, activation='relu'))"
   ]
  },
  {
   "cell_type": "markdown",
   "id": "9d30dacd",
   "metadata": {},
   "source": [
    "## Training the ANN"
   ]
  },
  {
   "cell_type": "code",
   "execution_count": null,
   "id": "e30347ae",
   "metadata": {},
   "outputs": [],
   "source": [
    "ann.compile(optimizer = 'adam', loss = 'binary_crossentropy', metrics = ['accuracy'])\n",
    "ann.fit(X_train, y_train, batch_size = 32, epochs = 100)"
   ]
  },
  {
   "cell_type": "markdown",
   "id": "04a371c7",
   "metadata": {},
   "source": [
    "## Checking the accuracy of the ANN"
   ]
  },
  {
   "cell_type": "code",
   "execution_count": null,
   "id": "d45ddd49",
   "metadata": {},
   "outputs": [],
   "source": [
    "from sklearn.metrics import confusion_matrix, accuracy_score\n",
    "cm = confusion_matrix(y_test, y_pred)\n",
    "print(cm)\n",
    "accuracy_score(y_test, y_pred)"
   ]
  },
  {
   "cell_type": "markdown",
   "id": "c16d1886",
   "metadata": {},
   "source": [
    "## Optimization using ANN"
   ]
  },
  {
   "cell_type": "code",
   "execution_count": null,
   "id": "2e886215",
   "metadata": {},
   "outputs": [],
   "source": [
    "tl_min=50\n",
    "ta_min=-10\n",
    "bl_min=400\n",
    "ba_min=10\n",
    "cd_min=0.400\n",
    "\n",
    "for tl in range(50, 71, 1):\n",
    "    for ta in range(-10, 11, 0.5):\n",
    "        for bl in range(400, 501, 5):\n",
    "            for ba in range(10, 21, 0.5):\n",
    "                cd= ann.predict(sc.transform([[tl, ta, bl, ba]])\n",
    "                if(cd<cd_min):\n",
    "                                cd_min=cd\n",
    "                                tl_min=tl\n",
    "                                ta_min=ta\n",
    "                                bl_min=bl\n",
    "                                ba_min=ba"
   ]
  },
  {
   "cell_type": "markdown",
   "id": "d967025b",
   "metadata": {},
   "source": [
    "## Result"
   ]
  },
  {
   "cell_type": "code",
   "execution_count": null,
   "id": "989cb99d",
   "metadata": {},
   "outputs": [],
   "source": [
    "print(\"Using the ANN, the minimum value of drag obtained is\", cd_min, \"and the dependent variables are:\")\n",
    "print(\"1. Trunk length =\", tl_min)\n",
    "print(\"2. Trunk angle =\", ta_min)\n",
    "print(\"3. Bumper length =\", bl_min)\n",
    "print(\"4. Bumper angle =\", ba_min)"
   ]
  }
 ],
 "metadata": {
  "kernelspec": {
   "display_name": "Python 3 (ipykernel)",
   "language": "python",
   "name": "python3"
  },
  "language_info": {
   "codemirror_mode": {
    "name": "ipython",
    "version": 3
   },
   "file_extension": ".py",
   "mimetype": "text/x-python",
   "name": "python",
   "nbconvert_exporter": "python",
   "pygments_lexer": "ipython3",
   "version": "3.10.4"
  }
 },
 "nbformat": 4,
 "nbformat_minor": 5
}
